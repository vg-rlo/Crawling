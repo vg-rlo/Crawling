{
 "cells": [
  {
   "cell_type": "markdown",
   "id": "d4369b87",
   "metadata": {},
   "source": [
    "# Naver Blog Crawler Using Selenium\n",
    "\n",
    "* 네이버 블로그 링크를 알고 있다면 해당하는 블로그에 쓰인 전체글을 읽어오는 코드\n",
    "* 현재 진행 과정: 블로그 링크(url)까지 가져옴"
   ]
  },
  {
   "cell_type": "code",
   "execution_count": 1,
   "id": "6ffb7a11",
   "metadata": {},
   "outputs": [
    {
     "name": "stdout",
     "output_type": "stream",
     "text": [
      "('64bit', '')\n"
     ]
    }
   ],
   "source": [
    "import platform\n",
    "\n",
    "print(platform.architecture())"
   ]
  },
  {
   "cell_type": "code",
   "execution_count": 2,
   "id": "9d5f824b",
   "metadata": {},
   "outputs": [
    {
     "name": "stdout",
     "output_type": "stream",
     "text": [
      "Python 3.7.10\r\n"
     ]
    }
   ],
   "source": [
    "!python --version"
   ]
  },
  {
   "cell_type": "code",
   "execution_count": 3,
   "id": "ee0bc63c",
   "metadata": {},
   "outputs": [
    {
     "data": {
      "text/plain": [
       "'/home/aiffel-dj19/jungcheck/CRAWLING'"
      ]
     },
     "execution_count": 3,
     "metadata": {},
     "output_type": "execute_result"
    }
   ],
   "source": [
    "pwd"
   ]
  },
  {
   "cell_type": "code",
   "execution_count": 4,
   "id": "2133c93f",
   "metadata": {},
   "outputs": [],
   "source": [
    "# !pip install selenium==3.14.1"
   ]
  },
  {
   "cell_type": "code",
   "execution_count": 5,
   "id": "d2f73230",
   "metadata": {},
   "outputs": [],
   "source": [
    "#Step 0. 필요한 모듈과 라이브러리를 로딩하고 검색어를 입력 받습니다.\n",
    "import sys\n",
    "import os\n",
    "import pandas as pd\n",
    "import numpy as np\n",
    "\n",
    "from bs4 import BeautifulSoup\n",
    "from selenium import webdriver\n",
    "from selenium.webdriver.common.keys import Keys\n",
    "import time\n",
    "import tqdm\n",
    "from tqdm.notebook import tqdm"
   ]
  },
  {
   "cell_type": "code",
   "execution_count": 6,
   "id": "7b7da8dd",
   "metadata": {},
   "outputs": [
    {
     "name": "stdout",
     "output_type": "stream",
     "text": [
      "/home/aiffel-dj19/jungcheck/CRAWLING\r\n"
     ]
    }
   ],
   "source": [
    "!pwd"
   ]
  },
  {
   "cell_type": "code",
   "execution_count": 7,
   "id": "aad9bd0a",
   "metadata": {},
   "outputs": [
    {
     "data": {
      "text/plain": [
       "'3.14.1'"
      ]
     },
     "execution_count": 7,
     "metadata": {},
     "output_type": "execute_result"
    }
   ],
   "source": [
    "webdriver.__version__"
   ]
  },
  {
   "cell_type": "code",
   "execution_count": 8,
   "id": "e11ca866",
   "metadata": {},
   "outputs": [],
   "source": [
    "blog_link = 'https://blog.naver.com/kin7605'"
   ]
  },
  {
   "cell_type": "code",
   "execution_count": 9,
   "id": "08c48be8",
   "metadata": {},
   "outputs": [],
   "source": [
    "#Step 1. 크롬 웹브라우저 실행\n",
    "path = os.getcwd() + '/chromedriver'\n",
    "\n",
    "driver = webdriver.Chrome(path)\n",
    "driver.get(blog_link)\n",
    "\n",
    "element = driver.find_element_by_id('mainFrame') # iframe 태그 엘리먼트 찾기\n",
    "driver.switch_to.frame(element) # 프레임 이동\n",
    "time.sleep(0.3)"
   ]
  },
  {
   "cell_type": "code",
   "execution_count": 10,
   "id": "61b991bd",
   "metadata": {},
   "outputs": [],
   "source": [
    "# 목록 열기 버튼을 클릭해줘서 전체보기 목록을 펼쳐줘야함\n",
    "driver.find_element_by_class_name(\"btn_openlist\").click()\n",
    "time.sleep(0.1)"
   ]
  },
  {
   "cell_type": "code",
   "execution_count": 11,
   "id": "b9259c72",
   "metadata": {
    "scrolled": true
   },
   "outputs": [
    {
     "name": "stdout",
     "output_type": "stream",
     "text": [
      "<selenium.webdriver.remote.webelement.WebElement (session=\"41c87859926be3089a94764f6dcacf2d\", element=\"6ba49c1c-e0bc-43a5-b032-58331f922b2b\")>\n",
      "\n",
      "https://blog.naver.com/PostView.nhn?blogId=kin7605&logNo=222389003168&categoryNo=0&parentCategoryNo=0&viewDate=&currentPage=1&postListTopCurrentPage=&from=\n",
      "\n",
      "222389003168\n",
      "\n",
      "https://blog.naver.com/kin7605/222389003168\n",
      "\n"
     ]
    }
   ],
   "source": [
    "link = driver.find_element_by_xpath(\"//*[@id='listTopForm']/table/tbody/tr[1]/td[1]/div/span/a\")\n",
    "temp = link.get_attribute('href')\n",
    "temp_ip = temp.split('&')[1].split('=')[-1]\n",
    "address = blog_link + '/' + temp_ip\n",
    "\n",
    "print(link)\n",
    "print()\n",
    "print(temp)\n",
    "print()\n",
    "print(temp_ip)\n",
    "print()\n",
    "print(address)\n",
    "print()"
   ]
  },
  {
   "cell_type": "code",
   "execution_count": 19,
   "id": "0dc18010",
   "metadata": {},
   "outputs": [],
   "source": [
    "url_set = [] # url 모음 \n",
    "\n",
    "# 1 ~ 11 페이지네이션 접근 \n",
    "for p in range(1, 12):\n",
    "    # 마지막 페이지가 아닐 경우 \n",
    "    if p != 11: \n",
    "        driver.find_element_by_xpath(f\"//*[@id='toplistWrapper']/div[2]/div/a[{p}]\").click()\n",
    "        time.sleep(0.1)\n",
    "    # 마지막 페이지일 경우 & 해당 페이지에 1개의 페이지네이션만 있을 경우\n",
    "    else:\n",
    "        driver.find_element_by_xpath('//*[@id=\"toplistWrapper\"]/div[2]/div/strong[2]').click()\n",
    "    \n",
    "    # 1 ~ 5개의 목록내 게시글 접근\n",
    "    for i in range(1, 6):             \n",
    "        # 해당 목록에서 i번째 글이 존재할 경우 url 가져오기\n",
    "        try:\n",
    "            link = driver.find_element_by_xpath(f\"//*[@id='listTopForm']/table/tbody/tr[{i}]/td[1]/div/span/a\")\n",
    "            temp = link.get_attribute('href')\n",
    "            temp_ip = temp.split('&')[1].split('=')[-1]\n",
    "            address = blog_link + '/' + temp_ip\n",
    "            url_set.append(address)\n",
    "            \n",
    "        # 해당 목록에서 i번째부터 글이 없는 경우 오류 발생하기 때문에 try except 구문 활용\n",
    "        except: \n",
    "            print(f\"목록에서 {i+1}번째 글이 없습니다.\")\n",
    "    \n",
    "#     if p == 10:\n",
    "#         # 다음 페이지로 넘어가기 위해 10번째일 때 '다음' 버튼 클릭\n",
    "#         driver.find_element_by_xpath('//*[@id=\"toplistWrapper\"]/div[2]/div/a[10]').click()\n",
    "#         time.sleep(0.1)"
   ]
  },
  {
   "cell_type": "code",
   "execution_count": 20,
   "id": "e1e2ac53",
   "metadata": {
    "scrolled": false
   },
   "outputs": [
    {
     "data": {
      "text/plain": [
       "['https://blog.naver.com/kin7605/222389003168',\n",
       " 'https://blog.naver.com/kin7605/222386946697',\n",
       " 'https://blog.naver.com/kin7605/222386915734',\n",
       " 'https://blog.naver.com/kin7605/222386030711',\n",
       " 'https://blog.naver.com/kin7605/222383014299',\n",
       " 'https://blog.naver.com/kin7605/222174279596',\n",
       " 'https://blog.naver.com/kin7605/222157309723',\n",
       " 'https://blog.naver.com/kin7605/222149069638',\n",
       " 'https://blog.naver.com/kin7605/222148993925',\n",
       " 'https://blog.naver.com/kin7605/222148120525',\n",
       " 'https://blog.naver.com/kin7605/222139080344',\n",
       " 'https://blog.naver.com/kin7605/222112066715',\n",
       " 'https://blog.naver.com/kin7605/222056002472',\n",
       " 'https://blog.naver.com/kin7605/222055990339',\n",
       " 'https://blog.naver.com/kin7605/221989992907',\n",
       " 'https://blog.naver.com/kin7605/221954401556',\n",
       " 'https://blog.naver.com/kin7605/221864430309',\n",
       " 'https://blog.naver.com/kin7605/221858493295',\n",
       " 'https://blog.naver.com/kin7605/221858459409',\n",
       " 'https://blog.naver.com/kin7605/221854633311',\n",
       " 'https://blog.naver.com/kin7605/221847455041',\n",
       " 'https://blog.naver.com/kin7605/221847425325',\n",
       " 'https://blog.naver.com/kin7605/221363542374',\n",
       " 'https://blog.naver.com/kin7605/221349852265',\n",
       " 'https://blog.naver.com/kin7605/221346448994',\n",
       " 'https://blog.naver.com/kin7605/221345927290',\n",
       " 'https://blog.naver.com/kin7605/221345424646',\n",
       " 'https://blog.naver.com/kin7605/221344102733',\n",
       " 'https://blog.naver.com/kin7605/221343817849',\n",
       " 'https://blog.naver.com/kin7605/221342586796',\n",
       " 'https://blog.naver.com/kin7605/221341959815',\n",
       " 'https://blog.naver.com/kin7605/221341935637',\n",
       " 'https://blog.naver.com/kin7605/221330202271',\n",
       " 'https://blog.naver.com/kin7605/221318753051',\n",
       " 'https://blog.naver.com/kin7605/221318744587',\n",
       " 'https://blog.naver.com/kin7605/221306968536',\n",
       " 'https://blog.naver.com/kin7605/221306163146',\n",
       " 'https://blog.naver.com/kin7605/221301999246',\n",
       " 'https://blog.naver.com/kin7605/221301583153',\n",
       " 'https://blog.naver.com/kin7605/221297071718',\n",
       " 'https://blog.naver.com/kin7605/221288882214',\n",
       " 'https://blog.naver.com/kin7605/221288609193',\n",
       " 'https://blog.naver.com/kin7605/221282276609',\n",
       " 'https://blog.naver.com/kin7605/221279062010',\n",
       " 'https://blog.naver.com/kin7605/221277740458',\n",
       " 'https://blog.naver.com/kin7605/221275374480',\n",
       " 'https://blog.naver.com/kin7605/221269371441',\n",
       " 'https://blog.naver.com/kin7605/221214051974',\n",
       " 'https://blog.naver.com/kin7605/221212596238',\n",
       " 'https://blog.naver.com/kin7605/221211008579',\n",
       " 'https://blog.naver.com/kin7605/221275374480',\n",
       " 'https://blog.naver.com/kin7605/221269371441',\n",
       " 'https://blog.naver.com/kin7605/221214051974',\n",
       " 'https://blog.naver.com/kin7605/221212596238',\n",
       " 'https://blog.naver.com/kin7605/221211008579']"
      ]
     },
     "execution_count": 20,
     "metadata": {},
     "output_type": "execute_result"
    }
   ],
   "source": [
    "url_set"
   ]
  },
  {
   "cell_type": "code",
   "execution_count": 21,
   "id": "752a1659",
   "metadata": {
    "scrolled": true
   },
   "outputs": [
    {
     "name": "stdout",
     "output_type": "stream",
     "text": [
      "55\n"
     ]
    }
   ],
   "source": [
    "# 총 게시글 55개\n",
    "# url_set = list(set(url_set))\n",
    "print(len(url_set))"
   ]
  },
  {
   "cell_type": "code",
   "execution_count": null,
   "id": "9d760bb0",
   "metadata": {},
   "outputs": [],
   "source": []
  }
 ],
 "metadata": {
  "kernelspec": {
   "display_name": "Python 3",
   "language": "python",
   "name": "python3"
  },
  "language_info": {
   "codemirror_mode": {
    "name": "ipython",
    "version": 3
   },
   "file_extension": ".py",
   "mimetype": "text/x-python",
   "name": "python",
   "nbconvert_exporter": "python",
   "pygments_lexer": "ipython3",
   "version": "3.7.10"
  },
  "toc": {
   "base_numbering": 1,
   "nav_menu": {},
   "number_sections": true,
   "sideBar": true,
   "skip_h1_title": false,
   "title_cell": "Table of Contents",
   "title_sidebar": "Contents",
   "toc_cell": false,
   "toc_position": {},
   "toc_section_display": true,
   "toc_window_display": false
  }
 },
 "nbformat": 4,
 "nbformat_minor": 5
}
